{
 "cells": [
  {
   "cell_type": "markdown",
   "id": "732383ee-5c59-4dae-8807-962e2bfa71a1",
   "metadata": {},
   "source": [
    "# Part A\n",
    "\n",
    "## 1. Describe the importance of training and test data. Why do we separate data into these subsets?\n",
    "\n"
   ]
  },
  {
   "cell_type": "markdown",
   "id": "f9c90b64-7fb6-4fe5-9ef4-6d23631b10d4",
   "metadata": {},
   "source": [
    "The separation of data into training and test subsets allow us to evaluate models accurately. We use the training data to fit the model, allowing it to learn the underlying patterns in the data. Meanwhile, we use the test data, which the model does not see during training, to assess the model's performance. In this way, we can ensure that the model can generalize well to new and unseen data. And we prevent the model from overfiting problem: the model merely memorize the training data."
   ]
  },
  {
   "cell_type": "markdown",
   "id": "820ff31a-2dea-461b-9b15-61f4d2841344",
   "metadata": {},
   "source": [
    "## 2. What is k-fold cross validation and what do we use it for?\n",
    "\n"
   ]
  },
  {
   "cell_type": "markdown",
   "id": "5ed69bbe-da36-4cac-b16b-81f01e6f9676",
   "metadata": {},
   "source": [
    "K-fold cross-validation is a technique used to assess the  the performance of a model. In other words, we can use k-fold CV to evaluate the effectiveness of a machine learning model and to ensure that it generalizes well to independent data sets. K-fold CV requires us to divide the whole data set into 'k' smaller and non-overlapping subsets (as known as \"folds\"). Then we train The model on 'k-1' folds and validated on the remaining fold, and this process is repeated k times such that each fold serves as the validation testing set once. Finally, we average the testing results to compute a robust estimate of the model’s performance. This technique can help decreasing overfitting and utilizing the data efficiently for training and validation without sacrificing too much data as a hold-out set.\n"
   ]
  },
  {
   "cell_type": "markdown",
   "id": "ec25f437-98f6-4833-a14e-3bd783aff818",
   "metadata": {},
   "source": [
    "## 3. How is k-fold cross validation different from stratified k-fold cross validation?\n",
    "\n",
    "\n"
   ]
  },
  {
   "cell_type": "markdown",
   "id": "b16a00b5-525c-48bf-96ec-1ff6995a0f60",
   "metadata": {},
   "source": [
    "The difference between standard k-fold and stratified k-fold cross-validation lies in how the data is split into folds. Stratified k-fold cross-validation ensures that each fold reflects the overall distribution of the target variable, particularly important in classification problems. This is crucial when dealing with imbalanced datasets where the target class distribution is not uniform. By preserving the percentage of samples for each class, stratified k-fold provides more reliable and stable evaluation metrics."
   ]
  },
  {
   "cell_type": "markdown",
   "id": "71906095-706e-4659-9fa5-ec5ce1dfadbb",
   "metadata": {},
   "source": [
    "## 4. Name the 4 types of supervised learning models that we have learned thus far that are used to predict categorical dependent variables like whether an email is labeled “spam” or “not spam.”\n"
   ]
  },
  {
   "cell_type": "markdown",
   "id": "3a360ec3-5ee3-4578-b8a8-975a75679d3c",
   "metadata": {},
   "source": [
    "- k-Nearest Neighbors (k-NN)\n",
    "- Logistic Regression\n",
    "- Decision Trees\n",
    "- Support Vector Machines (SVM)"
   ]
  },
  {
   "cell_type": "markdown",
   "id": "8a3d3cf7-0476-4153-8a1c-ec2a1b4ac758",
   "metadata": {},
   "source": [
    "## 5. Name the 3 types of supervised learning models that we have learned thus far that are used to predict continuous dependent variables like test scores.\n",
    "\n"
   ]
  },
  {
   "cell_type": "markdown",
   "id": "0e7d2473-ac44-45ea-bcfd-b092b11fd0c9",
   "metadata": {},
   "source": [
    "- Linear Regression (OLS)\n",
    "- Lasso / Ridge Regression \n",
    "- Decision Trees / Random Forest  (for regression tasks)"
   ]
  },
  {
   "cell_type": "markdown",
   "id": "911fb2d9-12ee-493c-8132-d2b62ab7160e",
   "metadata": {},
   "source": [
    "# Part B\n",
    "\n",
    "## 1. Import the spam dataset and print the first six rows.\n",
    "\n",
    "\n"
   ]
  },
  {
   "cell_type": "code",
   "execution_count": 15,
   "id": "eb487344-58d5-41a2-8a5b-bb12cce6a2b5",
   "metadata": {},
   "outputs": [
    {
     "data": {
      "text/html": [
       "<div>\n",
       "<style scoped>\n",
       "    .dataframe tbody tr th:only-of-type {\n",
       "        vertical-align: middle;\n",
       "    }\n",
       "\n",
       "    .dataframe tbody tr th {\n",
       "        vertical-align: top;\n",
       "    }\n",
       "\n",
       "    .dataframe thead th {\n",
       "        text-align: right;\n",
       "    }\n",
       "</style>\n",
       "<table border=\"1\" class=\"dataframe\">\n",
       "  <thead>\n",
       "    <tr style=\"text-align: right;\">\n",
       "      <th></th>\n",
       "      <th>word_freq_make:</th>\n",
       "      <th>word_freq_address:</th>\n",
       "      <th>word_freq_all:</th>\n",
       "      <th>word_freq_3d:</th>\n",
       "      <th>word_freq_our:</th>\n",
       "      <th>word_freq_over:</th>\n",
       "      <th>word_freq_remove:</th>\n",
       "      <th>word_freq_internet:</th>\n",
       "      <th>word_freq_order:</th>\n",
       "      <th>word_freq_mail:</th>\n",
       "      <th>...</th>\n",
       "      <th>char_freq_;:</th>\n",
       "      <th>char_freq_(:</th>\n",
       "      <th>char_freq_[:</th>\n",
       "      <th>char_freq_!:</th>\n",
       "      <th>char_freq_$:</th>\n",
       "      <th>char_freq_#:</th>\n",
       "      <th>capital_run_length_average:</th>\n",
       "      <th>capital_run_length_longest:</th>\n",
       "      <th>capital_run_length_total:</th>\n",
       "      <th>spam</th>\n",
       "    </tr>\n",
       "  </thead>\n",
       "  <tbody>\n",
       "    <tr>\n",
       "      <th>0</th>\n",
       "      <td>0.00</td>\n",
       "      <td>0.64</td>\n",
       "      <td>0.64</td>\n",
       "      <td>0.0</td>\n",
       "      <td>0.32</td>\n",
       "      <td>0.00</td>\n",
       "      <td>0.00</td>\n",
       "      <td>0.00</td>\n",
       "      <td>0.00</td>\n",
       "      <td>0.00</td>\n",
       "      <td>...</td>\n",
       "      <td>0.00</td>\n",
       "      <td>0.000</td>\n",
       "      <td>0.0</td>\n",
       "      <td>0.778</td>\n",
       "      <td>0.000</td>\n",
       "      <td>0.000</td>\n",
       "      <td>3.756</td>\n",
       "      <td>61</td>\n",
       "      <td>278</td>\n",
       "      <td>1</td>\n",
       "    </tr>\n",
       "    <tr>\n",
       "      <th>1</th>\n",
       "      <td>0.21</td>\n",
       "      <td>0.28</td>\n",
       "      <td>0.50</td>\n",
       "      <td>0.0</td>\n",
       "      <td>0.14</td>\n",
       "      <td>0.28</td>\n",
       "      <td>0.21</td>\n",
       "      <td>0.07</td>\n",
       "      <td>0.00</td>\n",
       "      <td>0.94</td>\n",
       "      <td>...</td>\n",
       "      <td>0.00</td>\n",
       "      <td>0.132</td>\n",
       "      <td>0.0</td>\n",
       "      <td>0.372</td>\n",
       "      <td>0.180</td>\n",
       "      <td>0.048</td>\n",
       "      <td>5.114</td>\n",
       "      <td>101</td>\n",
       "      <td>1028</td>\n",
       "      <td>1</td>\n",
       "    </tr>\n",
       "    <tr>\n",
       "      <th>2</th>\n",
       "      <td>0.06</td>\n",
       "      <td>0.00</td>\n",
       "      <td>0.71</td>\n",
       "      <td>0.0</td>\n",
       "      <td>1.23</td>\n",
       "      <td>0.19</td>\n",
       "      <td>0.19</td>\n",
       "      <td>0.12</td>\n",
       "      <td>0.64</td>\n",
       "      <td>0.25</td>\n",
       "      <td>...</td>\n",
       "      <td>0.01</td>\n",
       "      <td>0.143</td>\n",
       "      <td>0.0</td>\n",
       "      <td>0.276</td>\n",
       "      <td>0.184</td>\n",
       "      <td>0.010</td>\n",
       "      <td>9.821</td>\n",
       "      <td>485</td>\n",
       "      <td>2259</td>\n",
       "      <td>1</td>\n",
       "    </tr>\n",
       "    <tr>\n",
       "      <th>3</th>\n",
       "      <td>0.00</td>\n",
       "      <td>0.00</td>\n",
       "      <td>0.00</td>\n",
       "      <td>0.0</td>\n",
       "      <td>0.63</td>\n",
       "      <td>0.00</td>\n",
       "      <td>0.31</td>\n",
       "      <td>0.63</td>\n",
       "      <td>0.31</td>\n",
       "      <td>0.63</td>\n",
       "      <td>...</td>\n",
       "      <td>0.00</td>\n",
       "      <td>0.137</td>\n",
       "      <td>0.0</td>\n",
       "      <td>0.137</td>\n",
       "      <td>0.000</td>\n",
       "      <td>0.000</td>\n",
       "      <td>3.537</td>\n",
       "      <td>40</td>\n",
       "      <td>191</td>\n",
       "      <td>1</td>\n",
       "    </tr>\n",
       "    <tr>\n",
       "      <th>4</th>\n",
       "      <td>0.00</td>\n",
       "      <td>0.00</td>\n",
       "      <td>0.00</td>\n",
       "      <td>0.0</td>\n",
       "      <td>0.63</td>\n",
       "      <td>0.00</td>\n",
       "      <td>0.31</td>\n",
       "      <td>0.63</td>\n",
       "      <td>0.31</td>\n",
       "      <td>0.63</td>\n",
       "      <td>...</td>\n",
       "      <td>0.00</td>\n",
       "      <td>0.135</td>\n",
       "      <td>0.0</td>\n",
       "      <td>0.135</td>\n",
       "      <td>0.000</td>\n",
       "      <td>0.000</td>\n",
       "      <td>3.537</td>\n",
       "      <td>40</td>\n",
       "      <td>191</td>\n",
       "      <td>1</td>\n",
       "    </tr>\n",
       "    <tr>\n",
       "      <th>5</th>\n",
       "      <td>0.00</td>\n",
       "      <td>0.00</td>\n",
       "      <td>0.00</td>\n",
       "      <td>0.0</td>\n",
       "      <td>1.85</td>\n",
       "      <td>0.00</td>\n",
       "      <td>0.00</td>\n",
       "      <td>1.85</td>\n",
       "      <td>0.00</td>\n",
       "      <td>0.00</td>\n",
       "      <td>...</td>\n",
       "      <td>0.00</td>\n",
       "      <td>0.223</td>\n",
       "      <td>0.0</td>\n",
       "      <td>0.000</td>\n",
       "      <td>0.000</td>\n",
       "      <td>0.000</td>\n",
       "      <td>3.000</td>\n",
       "      <td>15</td>\n",
       "      <td>54</td>\n",
       "      <td>1</td>\n",
       "    </tr>\n",
       "  </tbody>\n",
       "</table>\n",
       "<p>6 rows × 58 columns</p>\n",
       "</div>"
      ],
      "text/plain": [
       "   word_freq_make:  word_freq_address:  word_freq_all:  word_freq_3d:  \\\n",
       "0             0.00                0.64            0.64            0.0   \n",
       "1             0.21                0.28            0.50            0.0   \n",
       "2             0.06                0.00            0.71            0.0   \n",
       "3             0.00                0.00            0.00            0.0   \n",
       "4             0.00                0.00            0.00            0.0   \n",
       "5             0.00                0.00            0.00            0.0   \n",
       "\n",
       "   word_freq_our:  word_freq_over:  word_freq_remove:  word_freq_internet:  \\\n",
       "0            0.32             0.00               0.00                 0.00   \n",
       "1            0.14             0.28               0.21                 0.07   \n",
       "2            1.23             0.19               0.19                 0.12   \n",
       "3            0.63             0.00               0.31                 0.63   \n",
       "4            0.63             0.00               0.31                 0.63   \n",
       "5            1.85             0.00               0.00                 1.85   \n",
       "\n",
       "   word_freq_order:  word_freq_mail:  ...  char_freq_;:  char_freq_(:  \\\n",
       "0              0.00             0.00  ...          0.00         0.000   \n",
       "1              0.00             0.94  ...          0.00         0.132   \n",
       "2              0.64             0.25  ...          0.01         0.143   \n",
       "3              0.31             0.63  ...          0.00         0.137   \n",
       "4              0.31             0.63  ...          0.00         0.135   \n",
       "5              0.00             0.00  ...          0.00         0.223   \n",
       "\n",
       "   char_freq_[:  char_freq_!:  char_freq_$:  char_freq_#:  \\\n",
       "0           0.0         0.778         0.000         0.000   \n",
       "1           0.0         0.372         0.180         0.048   \n",
       "2           0.0         0.276         0.184         0.010   \n",
       "3           0.0         0.137         0.000         0.000   \n",
       "4           0.0         0.135         0.000         0.000   \n",
       "5           0.0         0.000         0.000         0.000   \n",
       "\n",
       "   capital_run_length_average:  capital_run_length_longest:  \\\n",
       "0                        3.756                           61   \n",
       "1                        5.114                          101   \n",
       "2                        9.821                          485   \n",
       "3                        3.537                           40   \n",
       "4                        3.537                           40   \n",
       "5                        3.000                           15   \n",
       "\n",
       "   capital_run_length_total:  spam  \n",
       "0                        278     1  \n",
       "1                       1028     1  \n",
       "2                       2259     1  \n",
       "3                        191     1  \n",
       "4                        191     1  \n",
       "5                         54     1  \n",
       "\n",
       "[6 rows x 58 columns]"
      ]
     },
     "execution_count": 15,
     "metadata": {},
     "output_type": "execute_result"
    }
   ],
   "source": [
    "import pandas as pd\n",
    "\n",
    "df = pd.read_csv('spam_dataset.csv')\n",
    "df.head(6)"
   ]
  },
  {
   "cell_type": "markdown",
   "id": "7a9c09e6-963b-4fc3-94a5-c68522905cb8",
   "metadata": {},
   "source": [
    "## 2. Read through the documentation of the original dataset here:\n",
    "http://archive.ics.uci.edu/ml/machine-learning-databases/spambase/spambase.names. <br>\n",
    "The dependent variable is \"spam,\" where one indicates that an email is spam and zero otherwise. Which three variables in the dataset do you think will be important predictors in a model of spam? Why?\n"
   ]
  },
  {
   "cell_type": "markdown",
   "id": "b72cef92-9660-4731-8fec-41d601007f1b",
   "metadata": {},
   "source": [
    "Chosen variables are:\n",
    "- `word_freq_free`: Spam messages often include words like \"free\" as a common tactic to attract attention.\n",
    "- `word_freq_money`: If a spam message does not mention \"free\", it is likely to mention words like \"money\" as substitute that attract people. Examples are like financial schemes or promotions.\n",
    "- `char_freq_$` : Sometimes a spam message will replace the word \"money\" by direct money amount with \"$\". \n",
    "\n",
    "In short, including these three variables should account for most spam messages."
   ]
  },
  {
   "cell_type": "markdown",
   "id": "27d41c08-cf01-464f-b2d9-e880139301c9",
   "metadata": {},
   "source": [
    "## 3. Visualize the univariate distribution of each of the variables in the previous question."
   ]
  },
  {
   "cell_type": "code",
   "execution_count": 16,
   "id": "d7956195",
   "metadata": {},
   "outputs": [
    {
     "data": {
      "image/png": "[encoded data removed]",
      "text/plain": [
       "<Figure size 1500x500 with 3 Axes>"
      ]
     },
     "metadata": {},
     "output_type": "display_data"
    }
   ],
   "source": [
    "import matplotlib.pyplot as plt\n",
    "import seaborn as sns\n",
    "\n",
    "# Define the variables of interest\n",
    "spam_variable = ['word_freq_free:', 'word_freq_money:', 'char_freq_$:']\n",
    "\n",
    "# Plotting each variable\n",
    "plt.figure(figsize=(15, 5)) \n",
    "for i, variable in enumerate(spam_variable, start=1):\n",
    "    plt.subplot(1, 3, i)\n",
    "    sns.histplot(df[variable], kde=True, bins=20)\n",
    "    plt.title(f'Distribution of {variable}')\n",
    "    plt.xlabel(variable)\n",
    "    plt.ylabel('Frequency')\n",
    "plt.tight_layout() # Make sure graphs won't overlap\n",
    "plt.show()"
   ]
  },
  {
   "cell_type": "markdown",
   "id": "194f1e77-fdfa-4d12-a87c-94fef6cc447d",
   "metadata": {},
   "source": [
    "## 4. Choose one model from Part A Question 4. \n",
    "Split the data into training and test subsets. Build a model with the three variables in the dataset that you think will be good predictors of \"spam.\" Run the model and evaluate prediction error using k-fold cross-validation. Describe why you chose any particular parameters for your model (e.g., if you used KNN, how did you decide to choose a specific value for k)."
   ]
  },
  {
   "cell_type": "markdown",
   "id": "c54ae198",
   "metadata": {},
   "source": [
    "#### KNN"
   ]
  },
  {
   "cell_type": "code",
   "execution_count": 17,
   "id": "f9ea1856",
   "metadata": {},
   "outputs": [
    {
     "name": "stdout",
     "output_type": "stream",
     "text": [
      "Best K Value:  {'n_neighbors': 9}\n",
      "Best Cross-Validation F1 Score:  0.8514227636715027\n",
      "Test F1 Score:  0.8427433225396077\n",
      "\n",
      "Optimized KNN Classification Report:\n",
      "               precision    recall  f1-score   support\n",
      "\n",
      "    Not Spam       0.83      0.92      0.88       676\n",
      "        Spam       0.87      0.73      0.80       475\n",
      "\n",
      "    accuracy                           0.85      1151\n",
      "   macro avg       0.85      0.83      0.84      1151\n",
      "weighted avg       0.85      0.85      0.84      1151\n",
      "\n"
     ]
    }
   ],
   "source": [
    "from sklearn.model_selection import train_test_split, cross_val_score, GridSearchCV\n",
    "from sklearn.neighbors import KNeighborsClassifier\n",
    "from sklearn.preprocessing import StandardScaler\n",
    "from sklearn.metrics import accuracy_score, classification_report, f1_score\n",
    "\n",
    "# Assuming df, spam_variable and 'spam' are already defined and available\n",
    "X = df[spam_variable]\n",
    "y = df['spam']\n",
    "\n",
    "# Split data into training & test sets\n",
    "X_train, X_test, y_train, y_test = train_test_split(X, y, test_size=0.25, random_state=42)\n",
    "\n",
    "# Standardize features for KNN\n",
    "scaler = StandardScaler()\n",
    "X_train = scaler.fit_transform(X_train)\n",
    "X_test = scaler.transform(X_test)\n",
    "\n",
    "# Set up the range of k values to test\n",
    "k_range = list(range(1, 21))  # Testing k from 1 to 20\n",
    "\n",
    "# Create a dictionary of all values we want to test for n_neighbors\n",
    "param_grid = dict(n_neighbors=k_range)\n",
    "\n",
    "# Use GridSearchCV to test all values for n_neighbors, using F1-score as the metric\n",
    "grid = GridSearchCV(KNeighborsClassifier(), param_grid, cv=10, scoring='f1_weighted')  # 10-fold cross-validation\n",
    "\n",
    "# Fit the grid with data\n",
    "grid.fit(X_train, y_train)\n",
    "\n",
    "# View the best parameters and best F1 score\n",
    "print(\"Best K Value: \", grid.best_params_)\n",
    "print(\"Best Cross-Validation F1 Score: \", grid.best_score_)\n",
    "\n",
    "# Use the best parameters to make predictions\n",
    "knn_best = KNeighborsClassifier(n_neighbors=grid.best_params_['n_neighbors'])\n",
    "knn_best.fit(X_train, y_train)\n",
    "y_pred = knn_best.predict(X_test)\n",
    "\n",
    "# Evaluate on test data using F1-score\n",
    "print(\"Test F1 Score: \", f1_score(y_test, y_pred, average='weighted'))\n",
    "\n",
    "# Get precision, recall, and F1-score\n",
    "report = classification_report(y_test, y_pred, target_names=['Not Spam', 'Spam'])\n",
    "print(\"\\nOptimized KNN Classification Report:\\n\", report)"
   ]
  },
  {
   "cell_type": "markdown",
   "id": "3ae5c0b9-37cd-4947-ab65-bdc13349f01c",
   "metadata": {},
   "source": [
    "The choice of `k=9` is often used as a starting point because it is small enough to provide reasonably low bias and large enough to avoid the most extreme effects of noise. When choosing a k that is too small, the model becomes highly sensitive to noise in the training data, leading to overfitting problem. Conversely, a very large k leads to underfitting, where the model becomes overly generalized. \n",
    "\n"
   ]
  },
  {
   "cell_type": "markdown",
   "id": "aca29e3d",
   "metadata": {},
   "source": [
    "NOTE: <br>\n",
    "1. Since false positives (marking good mail as spam) are very undesirable (as mentioned in the desciption text), I compute a classification report that include `precision` (aims to minimize false positives) and `f1-score` (commonly a good standard). <br>"
   ]
  },
  {
   "cell_type": "markdown",
   "id": "072144a5-7432-448a-aebf-84d3acfa5073",
   "metadata": {},
   "source": [
    "## 5. Repeat the previous question but with a different model from Part A Question 4."
   ]
  },
  {
   "cell_type": "markdown",
   "id": "582aaaff",
   "metadata": {},
   "source": [
    "#### Logistics Regression"
   ]
  },
  {
   "cell_type": "code",
   "execution_count": 6,
   "id": "d61dbe9a",
   "metadata": {},
   "outputs": [
    {
     "name": "stdout",
     "output_type": "stream",
     "text": [
      "Best C Value: {'C': 1}\n",
      "Best Cross-Validation F1 Score: 0.8119114117025694\n",
      "Test F1 Score: 0.7942712694722728\n",
      "\n",
      "Logistic Regression Classification Report with L1 Penalty:\n",
      "               precision    recall  f1-score   support\n",
      "\n",
      "    Not Spam       0.76      0.97      0.85       676\n",
      "        Spam       0.92      0.58      0.71       475\n",
      "\n",
      "    accuracy                           0.81      1151\n",
      "   macro avg       0.84      0.77      0.78      1151\n",
      "weighted avg       0.83      0.81      0.79      1151\n",
      "\n"
     ]
    }
   ],
   "source": [
    "from sklearn.linear_model import LogisticRegression\n",
    "from sklearn.model_selection import train_test_split, GridSearchCV\n",
    "from sklearn.metrics import f1_score, classification_report\n",
    "from sklearn.preprocessing import StandardScaler\n",
    "\n",
    "# To find best parameter, I will use GridSearchCV, which automatically performs cross-validation as part of its process to evaluate the performance\n",
    "# Define parameter grid for 'C' values\n",
    "param_grid_log = {'C': [0.01, 0.1, 1, 10, 100]}\n",
    "\n",
    "# Setup the grid search with LogisticRegression and f1_weighted scoring\n",
    "grid_log = GridSearchCV(LogisticRegression(penalty='l1', solver='liblinear', random_state=42),\n",
    "                    param_grid_log, cv=10, scoring='f1_weighted')\n",
    "\n",
    "# Fit grid search to the training data\n",
    "grid_log.fit(X_train, y_train)\n",
    "\n",
    "# Output the best parameters and the best score from the grid search\n",
    "print(\"Best C Value:\", grid_log.best_params_)\n",
    "print(\"Best Cross-Validation F1 Score:\", grid_log.best_score_)\n",
    "\n",
    "# Evaluate using the best model found from the grid search\n",
    "best_log_reg = grid_log.best_estimator_\n",
    "y_pred_log = best_log_reg.predict(X_test)\n",
    "\n",
    "# Calculate F1-score on the test data\n",
    "test_f1_score = f1_score(y_test, y_pred_log, average='weighted')\n",
    "print(\"Test F1 Score:\", test_f1_score)\n",
    "\n",
    "# Get precision, recall, and F1-score\n",
    "report_log = classification_report(y_test, y_pred_log, target_names=['Not Spam', 'Spam'])\n",
    "print(\"\\nLogistic Regression Classification Report with L1 Penalty:\\n\", report_log)\n"
   ]
  },
  {
   "cell_type": "markdown",
   "id": "7e4f61d3-83cd-4534-9c3a-be23c59db775",
   "metadata": {},
   "source": [
    "I choose L1 penalty because:\n",
    "* L1 penalty helps focus the model's decision-making on the most significant predictors. This is critical in cases like spam detection, where certain keywords or characteristics are more predictive of spam than others.\n",
    "\n",
    "I choose C = 1 because:\n",
    "* Obviously, grid search showed that it is the best one\n",
    "* A `C` value of 1 provides a moderate level of regularization. It is neither too strong (which might lead to underfitting by overly simplifying the model) nor too weak (which could cause overfitting by allowing the model to be too complex)."
   ]
  },
  {
   "cell_type": "markdown",
   "id": "6fe4335e",
   "metadata": {},
   "source": [
    "## 6. Repeat the previous question but with a different model from Part A Question 4."
   ]
  },
  {
   "cell_type": "markdown",
   "id": "9aef956a",
   "metadata": {},
   "source": [
    "#### Decision Tree"
   ]
  },
  {
   "cell_type": "code",
   "execution_count": 7,
   "id": "83d4284a",
   "metadata": {},
   "outputs": [
    {
     "name": "stdout",
     "output_type": "stream",
     "text": [
      "Best Parameters: {'max_depth': 10, 'min_samples_leaf': 5, 'min_samples_split': 2}\n",
      "Best Cross-Validation F1 Score: 0.8464811042162067\n",
      "Test F1 Score: 0.8443303623756124\n",
      "\n",
      "Decision Tree Classification Report:\n",
      "               precision    recall  f1-score   support\n",
      "\n",
      "    Not Spam       0.83      0.93      0.88       676\n",
      "        Spam       0.88      0.73      0.80       475\n",
      "\n",
      "    accuracy                           0.85      1151\n",
      "   macro avg       0.85      0.83      0.84      1151\n",
      "weighted avg       0.85      0.85      0.84      1151\n",
      "\n"
     ]
    }
   ],
   "source": [
    "from sklearn.tree import DecisionTreeClassifier\n",
    "from sklearn.model_selection import train_test_split, cross_val_score, GridSearchCV\n",
    "from sklearn.metrics import accuracy_score, classification_report, f1_score\n",
    "\n",
    "# Define parameter grid for the decision tree\n",
    "param_grid_tree = {\n",
    "    'max_depth': [None, 5, 10, 15, 20],  # Test various depths\n",
    "    'min_samples_split': [2, 5, 10, 20],  # Minimum number of samples required to split a node\n",
    "    'min_samples_leaf': [1, 2, 5, 10]     # Minimum number of samples required at a leaf node\n",
    "}\n",
    "\n",
    "# Setup the grid search with DecisionTreeClassifier and f1_weighted scoring\n",
    "grid_tree = GridSearchCV(DecisionTreeClassifier(random_state=42), param_grid_tree, cv=10, scoring='f1_weighted')\n",
    "\n",
    "# Fit grid search to the training data\n",
    "grid_tree.fit(X_train, y_train)\n",
    "\n",
    "# Output the best parameters and the best score from the grid search\n",
    "print(\"Best Parameters:\", grid_tree.best_params_)\n",
    "print(\"Best Cross-Validation F1 Score:\", grid_tree.best_score_)\n",
    "\n",
    "# Evaluate using the best model found from the grid search\n",
    "best_tree = grid_tree.best_estimator_\n",
    "y_pred_tree = best_tree.predict(X_test)\n",
    "\n",
    "# Calculate F1-score on the test data\n",
    "test_f1_score = f1_score(y_test, y_pred_tree, average='weighted')\n",
    "print(\"Test F1 Score:\", test_f1_score)\n",
    "\n",
    "# Get precision, recall, and F1-score\n",
    "report_tree = classification_report(y_test, y_pred_tree, target_names=['Not Spam', 'Spam'])\n",
    "print(\"\\nDecision Tree Classification Report:\\n\", report_tree)"
   ]
  },
  {
   "cell_type": "markdown",
   "id": "9d205567",
   "metadata": {},
   "source": [
    "1. max_depth: 10\n",
    "* A max_depth of 10 prevents the tree from becoming too complex and overfitting while allowing it to learn sufficient details from the data to make accurate predictions. This depth strikes a balance between capturing complex patterns and maintaining good generalization to new data.\n",
    "\n",
    "2. min_samples_leaf: 5\n",
    "* Setting min_samples_leaf to 5 helps ensure that each leaf node has enough data points to make a reliable decision, thus reducing the model's sensitivity to noise and outliers. This setting promotes model stability and prevents overfitting by not allowing overly specific branching.\n",
    "\n",
    "3. min_samples_split: 2\n",
    "* min_samples_split set at 2 offers the tree flexibility to grow complex enough to detect subtle data variances but is balanced by the constraints set by max_depth and min_samples_leaf, ensuring the tree does not overfit minor fluctuations in the data."
   ]
  },
  {
   "cell_type": "markdown",
   "id": "84377f86",
   "metadata": {},
   "source": [
    "## 7. Repeat the previous question but with a different model from Part A Question 4."
   ]
  },
  {
   "cell_type": "markdown",
   "id": "6732e213",
   "metadata": {},
   "source": [
    "#### SVM"
   ]
  },
  {
   "cell_type": "code",
   "execution_count": 18,
   "id": "62a854ec",
   "metadata": {},
   "outputs": [
    {
     "name": "stdout",
     "output_type": "stream",
     "text": [
      "Fitting 10 folds for each of 4 candidates, totalling 40 fits\n",
      "Best Parameters: {'C': 10, 'kernel': 'linear'}\n",
      "Best Cross-Validation F1 Score: 0.8233223394149004\n",
      "Test F1 Score: 0.8285432993232638\n",
      "\n",
      "SVM Classification Report with Additional Variables:\n",
      "               precision    recall  f1-score   support\n",
      "\n",
      "    Not Spam       0.80      0.96      0.87       676\n",
      "        Spam       0.92      0.65      0.77       475\n",
      "\n",
      "    accuracy                           0.83      1151\n",
      "   macro avg       0.86      0.81      0.82      1151\n",
      "weighted avg       0.85      0.83      0.83      1151\n",
      "\n"
     ]
    }
   ],
   "source": [
    "from sklearn.svm import SVC\n",
    "from sklearn.model_selection import train_test_split, GridSearchCV, cross_val_score\n",
    "from sklearn.metrics import f1_score, classification_report\n",
    "\n",
    "# Assuming X_train, X_test, y_train, y_test are already defined\n",
    "\n",
    "# Define parameter grid for SVM\n",
    "param_grid_svm = {\n",
    "    'C': [0.1, 1, 10, 100],  # Test different C values\n",
    "    'kernel': ['linear']  \n",
    "}\n",
    "\n",
    "# Setup the grid search with SVM and f1_weighted scoring\n",
    "grid_svm = GridSearchCV(SVC(), param_grid_svm, cv=10, scoring='f1_weighted', verbose=1)\n",
    "\n",
    "# Fit grid search to the training data\n",
    "grid_svm.fit(X_train, y_train)\n",
    "\n",
    "# Output the best parameters and the best score from the grid search\n",
    "print(\"Best Parameters:\", grid_svm.best_params_)\n",
    "print(\"Best Cross-Validation F1 Score:\", grid_svm.best_score_)\n",
    "\n",
    "# Evaluate using the best model found from the grid search\n",
    "best_svm = grid_svm.best_estimator_\n",
    "y_pred_svm = best_svm.predict(X_test)\n",
    "\n",
    "# Calculate F1-score on the test data\n",
    "test_f1_score = f1_score(y_test, y_pred_svm, average='weighted')\n",
    "print(\"Test F1 Score:\", test_f1_score)\n",
    "\n",
    "# Get precision, recall, and F1-score for the test set\n",
    "report_svm = classification_report(y_test, y_pred_svm, target_names=['Not Spam', 'Spam'])\n",
    "print(\"\\nSVM Classification Report with Additional Variables:\\n\", report_svm)"
   ]
  },
  {
   "cell_type": "markdown",
   "id": "a3e47844",
   "metadata": {},
   "source": [
    "1. kernel = linear\n",
    "* The linear kernel is generally more conservative with less overfitting, which can be advantageous when false positives are particularly undesirable.\n",
    "\n",
    "2. C = 10\n",
    "* The C value of 10 chosen for the SVM model indicates less regularization, allowing the model to fit the training data more closely and capture complex patterns effectively. This choice reflects a balance between risk and reward: while a lower regularization strength (higher C) increases the risk of overfitting, it was necessary to optimize the F1-score by allowing the model to detail adequately within your dataset's complexities. "
   ]
  },
  {
   "cell_type": "markdown",
   "id": "26ea7d4c-92cf-46ee-b6c6-291f9964319b",
   "metadata": {},
   "source": [
    "## 8. Now rerun all 4 models with 3 additional variables that you think will help the prediction accuracy. Did this cause the performance to improve over your previous models?"
   ]
  },
  {
   "cell_type": "markdown",
   "id": "92d07313-706b-4ea4-bb72-3d7ced774d2d",
   "metadata": {},
   "source": [
    "I add `word_freq_your`, `word_freq_our`, and `capital_run_length_average` as the additional variables."
   ]
  },
  {
   "cell_type": "code",
   "execution_count": 9,
   "id": "8571ac59",
   "metadata": {},
   "outputs": [],
   "source": [
    "# Define new variable set\n",
    "spam_var_new = ['word_freq_free:', 'word_freq_money:', 'char_freq_$:', 'word_freq_your:', 'word_freq_our:', 'capital_run_length_average:']\n",
    "\n",
    "# Define X and y\n",
    "X = df[spam_var_new]\n",
    "y = df['spam']\n",
    "\n",
    "# Split data into training & test sets\n",
    "X_train, X_test, y_train, y_test = train_test_split(X, y, test_size=0.25, random_state=42)\n",
    "\n",
    "# Standardize features for KNN\n",
    "scaler = StandardScaler()\n",
    "X_train = scaler.fit_transform(X_train)\n",
    "X_test = scaler.transform(X_test)"
   ]
  },
  {
   "cell_type": "markdown",
   "id": "8242cc04",
   "metadata": {},
   "source": [
    "#### KNN"
   ]
  },
  {
   "cell_type": "code",
   "execution_count": 10,
   "id": "73bea5ec",
   "metadata": {},
   "outputs": [
    {
     "name": "stdout",
     "output_type": "stream",
     "text": [
      "Best K Value:  {'n_neighbors': 15}\n",
      "Best Cross-Validation F1 Score:  0.8659960460410796\n",
      "Test F1 Score:  0.8725501925129284\n",
      "\n",
      "Optimized KNN Classification Report:\n",
      "               precision    recall  f1-score   support\n",
      "\n",
      "    Not Spam       0.86      0.93      0.90       676\n",
      "        Spam       0.89      0.79      0.84       475\n",
      "\n",
      "    accuracy                           0.87      1151\n",
      "   macro avg       0.88      0.86      0.87      1151\n",
      "weighted avg       0.88      0.87      0.87      1151\n",
      "\n"
     ]
    }
   ],
   "source": [
    "# Set up the range of k values to test\n",
    "k_range = list(range(1, 21))  # Testing k from 1 to 20\n",
    "\n",
    "# Create a dictionary of all values we want to test for n_neighbors\n",
    "param_grid = dict(n_neighbors=k_range)\n",
    "\n",
    "# Use GridSearchCV to test all values for n_neighbors, using F1-score as the metric\n",
    "grid = GridSearchCV(KNeighborsClassifier(), param_grid, cv=10, scoring='f1_weighted')  # 10-fold cross-validation\n",
    "\n",
    "# Fit the grid with data\n",
    "grid.fit(X_train, y_train)\n",
    "\n",
    "# View the best parameters and best F1 score\n",
    "print(\"Best K Value: \", grid.best_params_)\n",
    "print(\"Best Cross-Validation F1 Score: \", grid.best_score_)\n",
    "\n",
    "# Use the best parameters to make predictions\n",
    "knn_best = KNeighborsClassifier(n_neighbors=grid.best_params_['n_neighbors'])\n",
    "knn_best.fit(X_train, y_train)\n",
    "y_pred = knn_best.predict(X_test)\n",
    "\n",
    "# Evaluate on test data using F1-score\n",
    "print(\"Test F1 Score: \", f1_score(y_test, y_pred, average='weighted'))\n",
    "\n",
    "# Get precision, recall, and F1-score\n",
    "report = classification_report(y_test, y_pred, target_names=['Not Spam', 'Spam'])\n",
    "print(\"\\nOptimized KNN Classification Report:\\n\", report)"
   ]
  },
  {
   "cell_type": "markdown",
   "id": "2949855f",
   "metadata": {},
   "source": [
    "KNN Change:\n",
    "* Best Cross-Validation F1 Score improves from 0.851 to 0.866\n",
    "* Test F1 Score improves DECENTLY from 0.843 to 0.873"
   ]
  },
  {
   "cell_type": "markdown",
   "id": "3d696d1c",
   "metadata": {},
   "source": [
    "#### Logistic Regression"
   ]
  },
  {
   "cell_type": "code",
   "execution_count": 11,
   "id": "fab5ce6d",
   "metadata": {},
   "outputs": [
    {
     "name": "stdout",
     "output_type": "stream",
     "text": [
      "Best C Value: {'C': 100}\n",
      "Best Cross-Validation F1 Score: 0.8328739454170024\n",
      "Test F1 Score: 0.8413694565699299\n",
      "\n",
      "Logistic Regression Classification Report with L1 Penalty:\n",
      "               precision    recall  f1-score   support\n",
      "\n",
      "    Not Spam       0.82      0.95      0.88       676\n",
      "        Spam       0.90      0.70      0.79       475\n",
      "\n",
      "    accuracy                           0.85      1151\n",
      "   macro avg       0.86      0.82      0.83      1151\n",
      "weighted avg       0.85      0.85      0.84      1151\n",
      "\n"
     ]
    }
   ],
   "source": [
    "from sklearn.linear_model import LogisticRegression\n",
    "from sklearn.model_selection import train_test_split, GridSearchCV\n",
    "from sklearn.metrics import f1_score, classification_report\n",
    "from sklearn.preprocessing import StandardScaler\n",
    "\n",
    "# To find best parameter, I will use GridSearchCV, which automatically performs cross-validation as part of its process to evaluate the performance\n",
    "# Define parameter grid for 'C' values\n",
    "param_grid_log = {'C': [0.01, 0.1, 1, 10, 100]}\n",
    "\n",
    "# Setup the grid search with LogisticRegression and f1_weighted scoring\n",
    "grid_log = GridSearchCV(LogisticRegression(penalty='l1', solver='liblinear', random_state=42),\n",
    "                    param_grid_log, cv=10, scoring='f1_weighted')\n",
    "\n",
    "# Fit grid search to the training data\n",
    "grid_log.fit(X_train, y_train)\n",
    "\n",
    "# Output the best parameters and the best score from the grid search\n",
    "print(\"Best C Value:\", grid_log.best_params_)\n",
    "print(\"Best Cross-Validation F1 Score:\", grid_log.best_score_)\n",
    "\n",
    "# Evaluate using the best model found from the grid search\n",
    "best_log_reg = grid_log.best_estimator_\n",
    "y_pred_log = best_log_reg.predict(X_test)\n",
    "\n",
    "# Calculate F1-score on the test data\n",
    "test_f1_score = f1_score(y_test, y_pred_log, average='weighted')\n",
    "print(\"Test F1 Score:\", test_f1_score)\n",
    "\n",
    "# Get precision, recall, and F1-score\n",
    "report_log = classification_report(y_test, y_pred_log, target_names=['Not Spam', 'Spam'])\n",
    "print(\"\\nLogistic Regression Classification Report with L1 Penalty:\\n\", report_log)"
   ]
  },
  {
   "cell_type": "markdown",
   "id": "8b2cf0de",
   "metadata": {},
   "source": [
    "Logistic Regression Change:\n",
    "* Best Cross-Validation F1 Score improves from 0.812 to 0.833\n",
    "* Test F1 Score SIGNIFICANTLY improves from 0.794 to 0.841 !!!"
   ]
  },
  {
   "cell_type": "markdown",
   "id": "e1be6c30",
   "metadata": {},
   "source": [
    "#### Decision Tree"
   ]
  },
  {
   "cell_type": "code",
   "execution_count": 12,
   "id": "6475d6ca",
   "metadata": {},
   "outputs": [
    {
     "name": "stdout",
     "output_type": "stream",
     "text": [
      "Best Parameters: {'max_depth': 5, 'min_samples_leaf': 2, 'min_samples_split': 2}\n",
      "Best Cross-Validation F1 Score: 0.8727852012694758\n",
      "Test F1 Score: 0.8517984490813706\n",
      "\n",
      "Decision Tree Classification Report:\n",
      "               precision    recall  f1-score   support\n",
      "\n",
      "    Not Spam       0.83      0.94      0.88       676\n",
      "        Spam       0.90      0.73      0.81       475\n",
      "\n",
      "    accuracy                           0.85      1151\n",
      "   macro avg       0.87      0.84      0.84      1151\n",
      "weighted avg       0.86      0.85      0.85      1151\n",
      "\n"
     ]
    }
   ],
   "source": [
    "from sklearn.tree import DecisionTreeClassifier\n",
    "from sklearn.model_selection import train_test_split, cross_val_score, GridSearchCV\n",
    "from sklearn.metrics import accuracy_score, classification_report, f1_score\n",
    "\n",
    "# Define parameter grid for the decision tree\n",
    "param_grid_tree = {\n",
    "    'max_depth': [None, 5, 10, 15, 20],  # Test various depths\n",
    "    'min_samples_split': [2, 5, 10, 20],  # Minimum number of samples required to split a node\n",
    "    'min_samples_leaf': [1, 2, 5, 10]     # Minimum number of samples required at a leaf node\n",
    "}\n",
    "\n",
    "# Setup the grid search with DecisionTreeClassifier and f1_weighted scoring\n",
    "grid_tree = GridSearchCV(DecisionTreeClassifier(random_state=42), param_grid_tree, cv=10, scoring='f1_weighted')\n",
    "\n",
    "# Fit grid search to the training data\n",
    "grid_tree.fit(X_train, y_train)\n",
    "\n",
    "# Output the best parameters and the best score from the grid search\n",
    "print(\"Best Parameters:\", grid_tree.best_params_)\n",
    "print(\"Best Cross-Validation F1 Score:\", grid_tree.best_score_)\n",
    "\n",
    "# Evaluate using the best model found from the grid search\n",
    "best_tree = grid_tree.best_estimator_\n",
    "y_pred_tree = best_tree.predict(X_test)\n",
    "\n",
    "# Calculate F1-score on the test data\n",
    "test_f1_score = f1_score(y_test, y_pred_tree, average='weighted')\n",
    "print(\"Test F1 Score:\", test_f1_score)\n",
    "\n",
    "# Get precision, recall, and F1-score\n",
    "report_tree = classification_report(y_test, y_pred_tree, target_names=['Not Spam', 'Spam'])\n",
    "print(\"\\nDecision Tree Classification Report:\\n\", report_tree)"
   ]
  },
  {
   "cell_type": "markdown",
   "id": "71cf92ea",
   "metadata": {},
   "source": [
    "Decision Tree Change:\n",
    "* Best Cross-Validation F1 Score improves DECENTLY from 0.846 to 0.873\n",
    "* Test F1 Score improves from 0.844 to 0.852"
   ]
  },
  {
   "cell_type": "markdown",
   "id": "e8310536",
   "metadata": {},
   "source": [
    "#### SVM"
   ]
  },
  {
   "cell_type": "code",
   "execution_count": 14,
   "id": "9aad581d",
   "metadata": {},
   "outputs": [
    {
     "name": "stdout",
     "output_type": "stream",
     "text": [
      "Fitting 10 folds for each of 4 candidates, totalling 40 fits\n",
      "Best Parameters: {'C': 10, 'kernel': 'linear'}\n",
      "Best Cross-Validation F1 Score: 0.8355987643869686\n",
      "Test F1 Score: 0.8376078913343437\n",
      "\n",
      "SVM Classification Report with Additional Variables:\n",
      "               precision    recall  f1-score   support\n",
      "\n",
      "    Not Spam       0.81      0.96      0.88       676\n",
      "        Spam       0.92      0.68      0.78       475\n",
      "\n",
      "    accuracy                           0.84      1151\n",
      "   macro avg       0.86      0.82      0.83      1151\n",
      "weighted avg       0.85      0.84      0.84      1151\n",
      "\n"
     ]
    }
   ],
   "source": [
    "from sklearn.svm import SVC\n",
    "from sklearn.model_selection import train_test_split, GridSearchCV, cross_val_score\n",
    "from sklearn.metrics import f1_score, classification_report\n",
    "\n",
    "# Assuming X_train, X_test, y_train, y_test are already defined\n",
    "\n",
    "# Define parameter grid for SVM\n",
    "param_grid_svm = {\n",
    "    'C': [0.1, 1, 10, 100],  # Test different C values\n",
    "    'kernel': ['linear']  \n",
    "}\n",
    "\n",
    "# Setup the grid search with SVM and f1_weighted scoring\n",
    "grid_svm = GridSearchCV(SVC(), param_grid_svm, cv=10, scoring='f1_weighted', verbose=1)\n",
    "\n",
    "# Fit grid search to the training data\n",
    "grid_svm.fit(X_train, y_train)\n",
    "\n",
    "# Output the best parameters and the best score from the grid search\n",
    "print(\"Best Parameters:\", grid_svm.best_params_)\n",
    "print(\"Best Cross-Validation F1 Score:\", grid_svm.best_score_)\n",
    "\n",
    "# Evaluate using the best model found from the grid search\n",
    "best_svm = grid_svm.best_estimator_\n",
    "y_pred_svm = best_svm.predict(X_test)\n",
    "\n",
    "# Calculate F1-score on the test data\n",
    "test_f1_score = f1_score(y_test, y_pred_svm, average='weighted')\n",
    "print(\"Test F1 Score:\", test_f1_score)\n",
    "\n",
    "# Get precision, recall, and F1-score for the test set\n",
    "report_svm = classification_report(y_test, y_pred_svm, target_names=['Not Spam', 'Spam'])\n",
    "print(\"\\nSVM Classification Report with Additional Variables:\\n\", report_svm)"
   ]
  },
  {
   "cell_type": "markdown",
   "id": "2714dd37",
   "metadata": {},
   "source": [
    "SVM Change:\n",
    "* Best Cross-Validation F1 Score improves from 0.823 to 0.836\n",
    "* Test F1 Score DECREASE from 0.844 to 0.838 !!!"
   ]
  },
  {
   "cell_type": "markdown",
   "id": "2faf9c0e-7e6f-487d-9bb0-f80a947d414e",
   "metadata": {},
   "source": [
    "Conclusion:\n",
    "* Decision Tree model show the most significant improvements (around 0.05+ in f1 score) from adding additional features, so these models benefit the most from richer feature sets for spam classification. \n",
    "* KNN and Logistic Regression show improvements some decent level (around 0.03), so there is some benefit recognized.\n",
    "* SVM shows NEGATIVE improvement, meaning that the new variables might not have provided information that allows these models to clearly distinguish between categories in a linear fashion."
   ]
  },
  {
   "cell_type": "markdown",
   "id": "ed5e220e-45d8-4c63-a4ff-1ea8deacecfa",
   "metadata": {},
   "source": [
    "## 9. What is a variable that isn't available in this dataset but you think could increase your final model's predictive power if you had it? Why do you think it would improve your model?\n"
   ]
  },
  {
   "cell_type": "markdown",
   "id": "a830fa86-bf98-4072-988c-ad1be4c99ff6",
   "metadata": {},
   "source": [
    "A valuable variable that isn't included in the dataset is the `geographical location of the sender's IP address`. Adding this variable could significantly enhance the model's predictive capability since:\n",
    "* Regional Trends: Spam emails often originate from specific regions known for `hosting spam servers`. Some regions are more likely to be the source of spam email since corresponding governmental policy/enforcement regarding spam is weak there.\n",
    "* Inconsistent Locations: If the geographical location of the sender frequently changes or doesn't match known legitimate sources for a sender, it is likely that the sender is a spam source."
   ]
  }
 ],
 "metadata": {
  "kernelspec": {
   "display_name": "Python 3 (ipykernel)",
   "language": "python",
   "name": "python3"
  },
  "language_info": {
   "codemirror_mode": {
    "name": "ipython",
    "version": 3
   },
   "file_extension": ".py",
   "mimetype": "text/x-python",
   "name": "python",
   "nbconvert_exporter": "python",
   "pygments_lexer": "ipython3",
   "version": "3.12.4"
  }
 },
 "nbformat": 4,
 "nbformat_minor": 5
}
